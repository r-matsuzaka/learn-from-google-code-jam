{
  "nbformat": 4,
  "nbformat_minor": 0,
  "metadata": {
    "colab": {
      "name": "Round 1A 2022 Double or One Thing.ipynb",
      "provenance": [],
      "authorship_tag": "ABX9TyNGr76qozOH+2y54LS2nuGW",
      "include_colab_link": true
    },
    "kernelspec": {
      "name": "python3",
      "display_name": "Python 3"
    },
    "language_info": {
      "name": "python"
    }
  },
  "cells": [
    {
      "cell_type": "markdown",
      "metadata": {
        "id": "view-in-github",
        "colab_type": "text"
      },
      "source": [
        "<a href=\"https://colab.research.google.com/github/r-matsuzaka/learn-from-google-code-jam/blob/main/colab/2022/Round_1A_2022_Double_or_One_Thing.ipynb\" target=\"_parent\"><img src=\"https://colab.research.google.com/assets/colab-badge.svg\" alt=\"Open In Colab\"/></a>"
      ]
    },
    {
      "cell_type": "markdown",
      "source": [
        "[Round 1A 2022](https://codingcompetitions.withgoogle.com/codejam/round/0000000000877ba5)  \n",
        "\n",
        "\n",
        "Double or One Thing"
      ],
      "metadata": {
        "id": "rURBJr6ok4CJ"
      }
    },
    {
      "cell_type": "code",
      "source": [
        "sampleinput = '3\\n'\\\n",
        "              'PEEL\\n'\\\n",
        "              'AAAAAAAAAA\\n'\\\n",
        "              'CODEJAMDAY'"
      ],
      "metadata": {
        "id": "jmO0xfZ3k1zf"
      },
      "execution_count": 1,
      "outputs": []
    },
    {
      "cell_type": "code",
      "source": [
        "IN = iter(sampleinput.split('\\n')).__next__\n",
        "def input():\n",
        "    return IN()"
      ],
      "metadata": {
        "id": "NMrhX_oEjy5i"
      },
      "execution_count": 2,
      "outputs": []
    },
    {
      "cell_type": "code",
      "source": [
        "# By HYEA\n",
        "def solve(s: str):\n",
        "    t = \"\"\n",
        "    for c in s[::-1]:\n",
        "        t = min(c+t, c+c+t)\n",
        "\n",
        "    return t\n",
        "\n",
        "\n",
        "def main():\n",
        "    T = int(input())\n",
        "    for t in range(1, T+1):\n",
        "        s = input()\n",
        "        print(f'Case #{t}: {solve(s)}')\n",
        "\n",
        "\n",
        "main()"
      ],
      "metadata": {
        "colab": {
          "base_uri": "https://localhost:8080/"
        },
        "id": "Yuzq62rQj-2L",
        "outputId": "f55a6b62-2908-4ab4-de90-c97f51368cc3"
      },
      "execution_count": 3,
      "outputs": [
        {
          "output_type": "stream",
          "name": "stdout",
          "text": [
            "Case #1: PEEEEL\n",
            "Case #2: AAAAAAAAAA\n",
            "Case #3: CCODDEEJAAMDAAY\n"
          ]
        }
      ]
    }
  ]
}