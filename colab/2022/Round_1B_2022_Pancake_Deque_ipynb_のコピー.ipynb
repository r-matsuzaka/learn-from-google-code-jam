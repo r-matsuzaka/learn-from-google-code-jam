{
  "nbformat": 4,
  "nbformat_minor": 0,
  "metadata": {
    "colab": {
      "name": "Round_1B_2022_Pancake_Deque.ipynb のコピー",
      "provenance": [],
      "authorship_tag": "ABX9TyOwZCCApSNGZ/09nX7swCng",
      "include_colab_link": true
    },
    "kernelspec": {
      "name": "python3",
      "display_name": "Python 3"
    },
    "language_info": {
      "name": "python"
    }
  },
  "cells": [
    {
      "cell_type": "markdown",
      "metadata": {
        "id": "view-in-github",
        "colab_type": "text"
      },
      "source": [
        "<a href=\"https://colab.research.google.com/github/r-matsuzaka/learn-from-google-code-jam/blob/main/colab/2022/Round_1B_2022_Pancake_Deque_ipynb_%E3%81%AE%E3%82%B3%E3%83%94%E3%83%BC.ipynb\" target=\"_parent\"><img src=\"https://colab.research.google.com/assets/colab-badge.svg\" alt=\"Open In Colab\"/></a>"
      ]
    },
    {
      "cell_type": "markdown",
      "source": [
        "[Round 1B 2022](https://codingcompetitions.withgoogle.com/codejam/round/000000000087711b)  \n",
        "Pancake Deque"
      ],
      "metadata": {
        "id": "zNQ6OQdebs9t"
      }
    },
    {
      "cell_type": "code",
      "source": [
        "sampleinput = '4\\n'\\\n",
        "              '2\\n'\\\n",
        "              '1 5\\n'\\\n",
        "              '4\\n'\\\n",
        "              '1 4 2 3\\n'\\\n",
        "              '5\\n'\\\n",
        "              '10 10 10 10 10\\n'\\\n",
        "              '4\\n'\\\n",
        "              '7 1 3 1000000\\n'"
      ],
      "metadata": {
        "id": "qBuIvzIcZ_pf"
      },
      "execution_count": null,
      "outputs": []
    },
    {
      "cell_type": "code",
      "source": [
        "IN = iter(sampleinput.split('\\n')).__next__\n",
        "def input():\n",
        "    return IN()"
      ],
      "metadata": {
        "id": "JdFkhCGnaDBG"
      },
      "execution_count": null,
      "outputs": []
    },
    {
      "cell_type": "code",
      "source": [
        "from collections import deque\n",
        "\n",
        "T = int(input())\n",
        "\n",
        "for t in range(T):\n",
        "    N = int(input())\n",
        "    v = [int(s) for s in input().split()]\n",
        "    q = deque(v)\n",
        "\n",
        "    curmax = 0\n",
        "    score = 0\n",
        "\n",
        "    for _ in range(N):\n",
        "        nextval = min(q[0], q[-1])\n",
        "\n",
        "        if nextval >= curmax:\n",
        "            score += 1\n",
        "            curmax = nextval\n",
        "\n",
        "        if nextval == q[0]:\n",
        "            q.popleft()\n",
        "        else:\n",
        "            q.pop()\n",
        "\n",
        "    print(f\"Case #{t+1}: {score}\")"
      ],
      "metadata": {
        "colab": {
          "base_uri": "https://localhost:8080/"
        },
        "id": "L2mMRls9aZIX",
        "outputId": "3fd7b551-1340-4420-cb4f-45aaf033f479"
      },
      "execution_count": null,
      "outputs": [
        {
          "output_type": "stream",
          "name": "stdout",
          "text": [
            "Case #1: 2\n",
            "Case #2: 3\n",
            "Case #3: 5\n",
            "Case #4: 2\n"
          ]
        }
      ]
    }
  ]
}