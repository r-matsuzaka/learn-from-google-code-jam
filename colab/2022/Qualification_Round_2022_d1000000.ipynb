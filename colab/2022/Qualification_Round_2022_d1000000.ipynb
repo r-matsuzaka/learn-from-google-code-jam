{
  "nbformat": 4,
  "nbformat_minor": 0,
  "metadata": {
    "colab": {
      "name": "Qualification Round 2022 d1000000.ipynb",
      "provenance": [],
      "authorship_tag": "ABX9TyOaWvHwolqEWqW0rIfWo7k2",
      "include_colab_link": true
    },
    "kernelspec": {
      "name": "python3",
      "display_name": "Python 3"
    },
    "language_info": {
      "name": "python"
    }
  },
  "cells": [
    {
      "cell_type": "markdown",
      "metadata": {
        "id": "view-in-github",
        "colab_type": "text"
      },
      "source": [
        "<a href=\"https://colab.research.google.com/github/r-matsuzaka/learn-from-google-code-jam/blob/main/colab/2022/Qualification_Round_2022_d1000000.ipynb\" target=\"_parent\"><img src=\"https://colab.research.google.com/assets/colab-badge.svg\" alt=\"Open In Colab\"/></a>"
      ]
    },
    {
      "cell_type": "markdown",
      "source": [
        "[Qualification Round 2022](https://codingcompetitions.withgoogle.com/codejam/round/0000000000876ff1)  \n",
        "\n",
        "\n",
        "d1000000"
      ],
      "metadata": {
        "id": "XTFcTjvtrvDo"
      }
    },
    {
      "cell_type": "code",
      "source": [
        "sampleinput = '4\\n'\\\n",
        "              '4\\n'\\\n",
        "              '6 10 12 8\\n'\\\n",
        "              '6\\n'\\\n",
        "              '5 4 5 4 4 4\\n'\\\n",
        "              '10\\n'\\\n",
        "              '10 10 7 6 7 4 4 5 7 4\\n'\\\n",
        "              '1\\n'\\\n",
        "              '10\\n'"
      ],
      "metadata": {
        "id": "cti1f7OTsOs7"
      },
      "execution_count": 1,
      "outputs": []
    },
    {
      "cell_type": "code",
      "source": [
        "IN = iter(sampleinput.split('\\n')).__next__\n",
        "def input():\n",
        "    return IN()"
      ],
      "metadata": {
        "id": "7gQwohxKsRjw"
      },
      "execution_count": 2,
      "outputs": []
    },
    {
      "cell_type": "code",
      "source": [
        "# By Redouane--Tashiqi\n",
        "\n",
        "T = int(input())\n",
        "for t in range(1, T+1):\n",
        "\tn = int(input())\n",
        "\tS = [int(x) for x in input().split()]\n",
        "\tS.sort()\n",
        "\tr = 0\n",
        "\tfor x in S:\n",
        "\t\tif r+1 <= x:\n",
        "\t\t\tr += 1\n",
        "\tprint(\"Case #{}: {}\".format(t, r))"
      ],
      "metadata": {
        "colab": {
          "base_uri": "https://localhost:8080/"
        },
        "id": "PCtUuBOhsWSQ",
        "outputId": "9e76aa17-811d-449d-ebe7-b47fe8bcb570"
      },
      "execution_count": 3,
      "outputs": [
        {
          "output_type": "stream",
          "name": "stdout",
          "text": [
            "Case #1: 4\n",
            "Case #2: 5\n",
            "Case #3: 9\n",
            "Case #4: 1\n"
          ]
        }
      ]
    }
  ]
}