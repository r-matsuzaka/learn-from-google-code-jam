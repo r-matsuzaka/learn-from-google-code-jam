{
  "nbformat": 4,
  "nbformat_minor": 0,
  "metadata": {
    "colab": {
      "name": "Qualification Round 2022 Chain Reactions.ipynb",
      "provenance": [],
      "authorship_tag": "ABX9TyNL0ohT9PE/whB+a8W6WxXK",
      "include_colab_link": true
    },
    "kernelspec": {
      "name": "python3",
      "display_name": "Python 3"
    },
    "language_info": {
      "name": "python"
    }
  },
  "cells": [
    {
      "cell_type": "markdown",
      "metadata": {
        "id": "view-in-github",
        "colab_type": "text"
      },
      "source": [
        "<a href=\"https://colab.research.google.com/github/r-matsuzaka/learn-from-google-code-jam/blob/main/colab/2022/Qualification_Round_2022_Chain_Reactions.ipynb\" target=\"_parent\"><img src=\"https://colab.research.google.com/assets/colab-badge.svg\" alt=\"Open In Colab\"/></a>"
      ]
    },
    {
      "cell_type": "markdown",
      "source": [
        "[Qualification Round 2022](https://codingcompetitions.withgoogle.com/codejam/round/0000000000876ff1)  \n",
        "\n",
        "\n",
        "Chain Reactions"
      ],
      "metadata": {
        "id": "hRqc_s8ezbFu"
      }
    },
    {
      "cell_type": "code",
      "source": [
        "sampleinput = '3\\n'\\\n",
        "              '4\\n'\\\n",
        "              '60 20 40 50\\n'\\\n",
        "              '0 1 1 2\\n'\\\n",
        "              '5\\n'\\\n",
        "              '3 2 1 4 5\\n'\\\n",
        "              '0 1 1 1 0\\n'\\\n",
        "              '8\\n'\\\n",
        "              '100 100 100 90 80 100 90 100\\n'\\\n",
        "              '0 1 2 1 2 3 1 3\\n'"
      ],
      "metadata": {
        "id": "t_CpH3n7zYzY"
      },
      "execution_count": 1,
      "outputs": []
    },
    {
      "cell_type": "code",
      "source": [
        "IN = iter(sampleinput.split('\\n')).__next__\n",
        "def input():\n",
        "    return IN()"
      ],
      "metadata": {
        "id": "0Mu8Z2Ep0Q2p"
      },
      "execution_count": 2,
      "outputs": []
    },
    {
      "cell_type": "code",
      "source": [
        "# By Redouane--Tashiqi\n",
        "\n",
        "T = int(input())\n",
        "for t in range(1, T+1):\n",
        "\tn = int(input())\n",
        "\tF = [int(x) for x in input().split()]\n",
        "\tP = [int(x)-1 for x in input().split()]\n",
        "\tl = [[] for x in range(n)]\n",
        "\tr = 0\n",
        "\tfor i in range(n-1,-1,-1):\n",
        "\t\tcur = F[i]\n",
        "\t\tif l[i] != []:\n",
        "\t\t\tm = min(l[i])\n",
        "\t\t\tr += sum(l[i])-m\n",
        "\t\t\tcur = max(cur, m)\n",
        "\t\tif P[i] == -1:\n",
        "\t\t\tr += cur\n",
        "\t\telse:\n",
        "\t\t\tl[P[i]] += [cur]\n",
        "\tprint(\"Case #{}: {}\".format(t, r))"
      ],
      "metadata": {
        "colab": {
          "base_uri": "https://localhost:8080/"
        },
        "id": "nxxAWYLU0Rk1",
        "outputId": "84d7d40b-dc67-42e9-dfc1-376a6641373a"
      },
      "execution_count": 3,
      "outputs": [
        {
          "output_type": "stream",
          "name": "stdout",
          "text": [
            "Case #1: 110\n",
            "Case #2: 14\n",
            "Case #3: 490\n"
          ]
        }
      ]
    }
  ]
}